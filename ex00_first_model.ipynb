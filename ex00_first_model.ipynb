{
  "nbformat": 4,
  "nbformat_minor": 0,
  "metadata": {
    "colab": {
      "name": "ex00_first_model.ipynb",
      "version": "0.3.2",
      "provenance": [],
      "collapsed_sections": []
    },
    "kernelspec": {
      "name": "python3",
      "display_name": "Python 3"
    }
  },
  "cells": [
    {
      "cell_type": "markdown",
      "metadata": {
        "id": "view-in-github",
        "colab_type": "text"
      },
      "source": [
        "[View in Colaboratory](https://colab.research.google.com/github/greenrmp/MachineLearning/blob/dev/ex00_first_model.ipynb)"
      ]
    },
    {
      "metadata": {
        "id": "Qb1_TVN6I3Yg",
        "colab_type": "text"
      },
      "cell_type": "markdown",
      "source": [
        "## 確認套件已經安裝 & Get data"
      ]
    },
    {
      "metadata": {
        "id": "HV7YO8qHIa7v",
        "colab_type": "code",
        "colab": {
          "base_uri": "https://localhost:8080/",
          "height": 34
        },
        "outputId": "39098eea-5c8b-44d8-9c74-9840b6289a12"
      },
      "cell_type": "code",
      "source": [
        "from __future__ import print_function\n",
        "!pip install -q keras\n",
        "import keras\n",
        "from google.colab import files\n",
        "import numpy as np\n",
        "from past.builtins import execfile\n",
        "import numpy as np\n",
        "import os\n",
        "\n",
        "from keras.utils import np_utils\n",
        "from sklearn.utils import shuffle\n",
        "import matplotlib.pyplot as plt"
      ],
      "execution_count": 2,
      "outputs": [
        {
          "output_type": "stream",
          "text": [
            "Using TensorFlow backend.\n"
          ],
          "name": "stderr"
        }
      ]
    },
    {
      "metadata": {
        "id": "DMi0n2udP2nZ",
        "colab_type": "text"
      },
      "cell_type": "markdown",
      "source": [
        "## 請將本機端的資料 \"pkgo_city66_cass5_v1.csv\" 上傳到 colab 環境"
      ]
    },
    {
      "metadata": {
        "id": "dZlRI9TZNAYy",
        "colab_type": "code",
        "colab": {}
      },
      "cell_type": "code",
      "source": [
        "if not os.path.exists(\"pkgo_city66_class5_v1.csv\"):\n",
        "  uploaded = files.upload()\n",
        "\n",
        "def readInput(file):\n",
        "  ''' Read input files '''\n",
        "  my_data = np.genfromtxt(file, delimiter=',',skip_header=1)\n",
        "\n",
        "  ''' The first column to the 199th column is used as input features '''\n",
        "  X_train = my_data[:,0:200]\n",
        "  X_train = X_train.astype('float32')\n",
        "\n",
        "  ''' The 200-th column is the answer '''\n",
        "  y_train = my_data[:,200]\n",
        "  y_train = y_train.astype('int')\n",
        "\n",
        "  ''' Convert to one-hot encoding '''\n",
        "  Y_train = np_utils.to_categorical(y_train,5)\n",
        "\n",
        "  ''' Shuffle training data '''\n",
        "  X_train,Y_train = shuffle(X_train,Y_train,random_state=100)\n",
        "  return X_train, Y_train\n",
        "\n",
        "# make data #\n",
        "X_train, Y_train = readInput(file=\"pkgo_city66_class5_v1.csv\")"
      ],
      "execution_count": 0,
      "outputs": []
    },
    {
      "metadata": {
        "id": "fnXzLzYrQb2Y",
        "colab_type": "text"
      },
      "cell_type": "markdown",
      "source": [
        "## 確認 Input 與 Output"
      ]
    },
    {
      "metadata": {
        "id": "glNPZr0wQbWf",
        "colab_type": "code",
        "colab": {
          "base_uri": "https://localhost:8080/",
          "height": 286
        },
        "outputId": "fb33dce3-0876-44d6-c0de-0796387396d0"
      },
      "cell_type": "code",
      "source": [
        "#@title  { vertical-output: true, display-mode: \"both\" }\n",
        "print(X_train.shape)\n",
        "print(Y_train.shape)\n",
        "print(\" === \")\n",
        "\n",
        "print(X_train[1,:32])\n",
        "print(Y_train[:5])"
      ],
      "execution_count": 3,
      "outputs": [
        {
          "output_type": "stream",
          "text": [
            "(1836, 200)\n",
            "(1836, 5)\n",
            " === \n",
            "[ 8.0542952e-02 -7.0215654e-01  9.0000000e+00  5.0000000e+00\n",
            "  1.3000000e+01  1.1000000e+01  5.9000000e+01  1.0000000e+00\n",
            "  1.5000000e+01  1.1000000e+01  2.0000000e+00  5.0000000e+00\n",
            "  8.0000000e+00  1.3000000e+01  0.0000000e+00  6.6000000e+01\n",
            "  2.0000000e+00  5.0000000e+00  1.1170280e-02 -8.8404727e-01\n",
            " -8.9963126e-01  1.4810755e+00  1.1207619e+00  1.8323834e+00\n",
            " -1.5321089e+00 -7.7582890e-01  7.2296715e-01 -8.8116989e-02\n",
            "  1.6153218e+00  7.6169109e-01 -4.3796182e-01  0.0000000e+00]\n",
            "[[0. 0. 1. 0. 0.]\n",
            " [1. 0. 0. 0. 0.]\n",
            " [0. 1. 0. 0. 0.]\n",
            " [0. 0. 0. 0. 1.]\n",
            " [0. 1. 0. 0. 0.]]\n"
          ],
          "name": "stdout"
        }
      ]
    },
    {
      "metadata": {
        "id": "DhHHdgTrSH4S",
        "colab_type": "text"
      },
      "cell_type": "markdown",
      "source": [
        "## 開始建立第一個模型 \n",
        "### (資料已經先替各位做過簡單的預處理囉)"
      ]
    },
    {
      "metadata": {
        "id": "Abt7aR4lTSdr",
        "colab_type": "code",
        "colab": {}
      },
      "cell_type": "code",
      "source": [
        "''' Import keras to build a DL model '''\n",
        "from keras.models import Model\n",
        "from keras.layers import Dense, Activation, Input\n",
        "from keras.optimizers import SGD, Adam, RMSprop, Adagrad"
      ],
      "execution_count": 0,
      "outputs": []
    },
    {
      "metadata": {
        "id": "kolRji_EKFHQ",
        "colab_type": "code",
        "colab": {
          "base_uri": "https://localhost:8080/",
          "height": 370
        },
        "outputId": "83f1ee89-62d4-407c-983c-2fb300cfee8f"
      },
      "cell_type": "code",
      "source": [
        "#@title Build the model { vertical-output: true, display-mode: \"both\" }\n",
        "x_input = Input(shape = [X_train.shape[1]])\n",
        "\n",
        "x = Dense(128)(x_input)\n",
        "x = Activation('sigmoid')(x)\n",
        "\n",
        "x = Dense(256)(x)\n",
        "x = Activation('sigmoid')(x)\n",
        "\n",
        "x = Dense(5)(x)\n",
        "out = Activation('softmax')(x)\n",
        "\n",
        "sgd = SGD(lr=0.01,momentum=0.0,decay=0.0,nesterov=False)\n",
        "\n",
        "model_ce = Model(inputs=[x_input], outputs=[out])\n",
        "\n",
        "model_ce.compile(loss='categorical_crossentropy',\n",
        "\t\t\t\toptimizer=sgd,\n",
        "\t\t\t\tmetrics=['accuracy'])\n",
        "model_ce.summary()"
      ],
      "execution_count": 5,
      "outputs": [
        {
          "output_type": "stream",
          "text": [
            "_________________________________________________________________\n",
            "Layer (type)                 Output Shape              Param #   \n",
            "=================================================================\n",
            "input_1 (InputLayer)         (None, 200)               0         \n",
            "_________________________________________________________________\n",
            "dense_1 (Dense)              (None, 128)               25728     \n",
            "_________________________________________________________________\n",
            "activation_1 (Activation)    (None, 128)               0         \n",
            "_________________________________________________________________\n",
            "dense_2 (Dense)              (None, 256)               33024     \n",
            "_________________________________________________________________\n",
            "activation_2 (Activation)    (None, 256)               0         \n",
            "_________________________________________________________________\n",
            "dense_3 (Dense)              (None, 5)                 1285      \n",
            "_________________________________________________________________\n",
            "activation_3 (Activation)    (None, 5)                 0         \n",
            "=================================================================\n",
            "Total params: 60,037\n",
            "Trainable params: 60,037\n",
            "Non-trainable params: 0\n",
            "_________________________________________________________________\n"
          ],
          "name": "stdout"
        }
      ]
    },
    {
      "metadata": {
        "id": "H2jHY-7eUFck",
        "colab_type": "code",
        "colab": {
          "base_uri": "https://localhost:8080/",
          "height": 1062
        },
        "outputId": "56fcf6c6-282d-438d-80ec-cf5474a15d54"
      },
      "cell_type": "code",
      "source": [
        "#@title Train the first model { vertical-output: true, display-mode: \"both\" }\n",
        "batch_size = 16\n",
        "epochs = 30\n",
        "\n",
        "history_ce = model_ce.fit(X_train, Y_train,\n",
        "\t\t\t\t\t\t\tbatch_size=batch_size,\n",
        "\t\t\t\t\t\t\tepochs=epochs,\n",
        "\t\t\t\t\t\t\tverbose=1,\n",
        "\t\t\t\t\t\t\tshuffle=True,\n",
        "              validation_split=0.1)"
      ],
      "execution_count": 6,
      "outputs": [
        {
          "output_type": "stream",
          "text": [
            "Train on 1652 samples, validate on 184 samples\n",
            "Epoch 1/30\n",
            "1652/1652 [==============================] - 0s 182us/step - loss: 1.3626 - acc: 0.5163 - val_loss: 1.3594 - val_acc: 0.5163\n",
            "Epoch 2/30\n",
            "1652/1652 [==============================] - 0s 120us/step - loss: 1.3564 - acc: 0.5163 - val_loss: 1.3297 - val_acc: 0.5163\n",
            "Epoch 3/30\n",
            "1652/1652 [==============================] - 0s 128us/step - loss: 1.3496 - acc: 0.5163 - val_loss: 1.3287 - val_acc: 0.5163\n",
            "Epoch 4/30\n",
            "1652/1652 [==============================] - 0s 145us/step - loss: 1.3433 - acc: 0.5163 - val_loss: 1.3547 - val_acc: 0.5163\n",
            "Epoch 5/30\n",
            "1652/1652 [==============================] - 0s 127us/step - loss: 1.3422 - acc: 0.5163 - val_loss: 1.3629 - val_acc: 0.5163\n",
            "Epoch 6/30\n",
            "1652/1652 [==============================] - 0s 130us/step - loss: 1.3366 - acc: 0.5163 - val_loss: 1.3197 - val_acc: 0.5163\n",
            "Epoch 7/30\n",
            "1652/1652 [==============================] - 0s 127us/step - loss: 1.3319 - acc: 0.5163 - val_loss: 1.3000 - val_acc: 0.5163\n",
            "Epoch 8/30\n",
            "1652/1652 [==============================] - 0s 124us/step - loss: 1.3294 - acc: 0.5163 - val_loss: 1.3037 - val_acc: 0.5163\n",
            "Epoch 9/30\n",
            "1652/1652 [==============================] - 0s 123us/step - loss: 1.3199 - acc: 0.5163 - val_loss: 1.3128 - val_acc: 0.5163\n",
            "Epoch 10/30\n",
            "1652/1652 [==============================] - 0s 124us/step - loss: 1.3129 - acc: 0.5169 - val_loss: 1.2781 - val_acc: 0.5163\n",
            "Epoch 11/30\n",
            "1652/1652 [==============================] - 0s 125us/step - loss: 1.3056 - acc: 0.5169 - val_loss: 1.2990 - val_acc: 0.5163\n",
            "Epoch 12/30\n",
            "1652/1652 [==============================] - 0s 129us/step - loss: 1.2997 - acc: 0.5157 - val_loss: 1.2754 - val_acc: 0.5163\n",
            "Epoch 13/30\n",
            "1652/1652 [==============================] - 0s 118us/step - loss: 1.2968 - acc: 0.5188 - val_loss: 1.2601 - val_acc: 0.5163\n",
            "Epoch 14/30\n",
            "1652/1652 [==============================] - 0s 118us/step - loss: 1.2877 - acc: 0.5242 - val_loss: 1.2421 - val_acc: 0.5163\n",
            "Epoch 15/30\n",
            "1652/1652 [==============================] - 0s 119us/step - loss: 1.2775 - acc: 0.5309 - val_loss: 1.2736 - val_acc: 0.5163\n",
            "Epoch 16/30\n",
            "1652/1652 [==============================] - 0s 121us/step - loss: 1.2748 - acc: 0.5387 - val_loss: 1.2225 - val_acc: 0.5543\n"
          ],
          "name": "stdout"
        },
        {
          "output_type": "stream",
          "text": [
            "Epoch 17/30\n",
            "1652/1652 [==============================] - 0s 121us/step - loss: 1.2676 - acc: 0.5527 - val_loss: 1.3210 - val_acc: 0.5163\n",
            "Epoch 18/30\n",
            "1652/1652 [==============================] - 0s 123us/step - loss: 1.2614 - acc: 0.5533 - val_loss: 1.2276 - val_acc: 0.5272\n",
            "Epoch 19/30\n",
            "1652/1652 [==============================] - 0s 127us/step - loss: 1.2519 - acc: 0.5611 - val_loss: 1.2521 - val_acc: 0.5380\n",
            "Epoch 20/30\n",
            "1652/1652 [==============================] - 0s 128us/step - loss: 1.2500 - acc: 0.5660 - val_loss: 1.2227 - val_acc: 0.5435\n",
            "Epoch 21/30\n",
            "1652/1652 [==============================] - 0s 120us/step - loss: 1.2423 - acc: 0.5708 - val_loss: 1.1777 - val_acc: 0.6304\n",
            "Epoch 22/30\n",
            "1652/1652 [==============================] - 0s 124us/step - loss: 1.2383 - acc: 0.5763 - val_loss: 1.1781 - val_acc: 0.6304\n",
            "Epoch 23/30\n",
            "1652/1652 [==============================] - 0s 122us/step - loss: 1.2341 - acc: 0.5732 - val_loss: 1.1899 - val_acc: 0.5924\n",
            "Epoch 24/30\n",
            "1652/1652 [==============================] - 0s 119us/step - loss: 1.2310 - acc: 0.5817 - val_loss: 1.1888 - val_acc: 0.6087\n",
            "Epoch 25/30\n",
            "1652/1652 [==============================] - 0s 132us/step - loss: 1.2259 - acc: 0.5793 - val_loss: 1.1678 - val_acc: 0.5978\n",
            "Epoch 26/30\n",
            "1652/1652 [==============================] - 0s 125us/step - loss: 1.2221 - acc: 0.5799 - val_loss: 1.1516 - val_acc: 0.6359\n",
            "Epoch 27/30\n",
            "1652/1652 [==============================] - 0s 122us/step - loss: 1.2194 - acc: 0.5811 - val_loss: 1.1453 - val_acc: 0.6304\n",
            "Epoch 28/30\n",
            "1652/1652 [==============================] - 0s 120us/step - loss: 1.2195 - acc: 0.5781 - val_loss: 1.1544 - val_acc: 0.6304\n",
            "Epoch 29/30\n",
            "1652/1652 [==============================] - 0s 128us/step - loss: 1.2103 - acc: 0.5805 - val_loss: 1.2105 - val_acc: 0.5707\n",
            "Epoch 30/30\n",
            "1652/1652 [==============================] - 0s 119us/step - loss: 1.2082 - acc: 0.5775 - val_loss: 1.1551 - val_acc: 0.6359\n"
          ],
          "name": "stdout"
        }
      ]
    },
    {
      "metadata": {
        "id": "StghWHh7PJ9L",
        "colab_type": "code",
        "colab": {
          "base_uri": "https://localhost:8080/",
          "height": 362
        },
        "outputId": "4c5ffb56-6362-4e89-92c6-724277037436"
      },
      "cell_type": "code",
      "source": [
        "#@title Draw the results { vertical-output: true, display-mode: \"both\" }\n",
        "loss_ce\t= history_ce.history.get('loss')\n",
        "acc_ce \t= history_ce.history.get('acc')\n",
        "\n",
        "''' Visualize the loss and accuracy of both models'''\n",
        "plt.figure(0)\n",
        "plt.subplot(121)\n",
        "plt.plot(range(len(loss_ce)), loss_ce,label='CE')\n",
        "plt.title('Loss')\n",
        "plt.legend(loc='upper right')\n",
        "plt.subplot(122)\n",
        "plt.plot(range(len(acc_ce)), acc_ce,label='CE')\n",
        "plt.title('Accuracy')\n",
        "plt.show()"
      ],
      "execution_count": 7,
      "outputs": [
        {
          "output_type": "display_data",
          "data": {
            "image/png": "[encoded data removed]",
            "text/plain": [
              "<matplotlib.figure.Figure at 0x7fc60e66fb90>"
            ]
          },
          "metadata": {
            "tags": []
          }
        }
      ]
    }
  ]
}